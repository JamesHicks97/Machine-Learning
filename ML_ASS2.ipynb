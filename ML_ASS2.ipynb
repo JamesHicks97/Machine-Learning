{
 "cells": [
  {
   "cell_type": "code",
   "execution_count": 1,
   "metadata": {},
   "outputs": [],
   "source": [
    "import numpy as np\n",
    "import pandas as pd\n",
    "import matplotlib as mpl\n",
    "import sklearn\n",
    "import math\n",
    "import matplotlib.pyplot as plt\n",
    "import time\n"
   ]
  },
  {
   "cell_type": "code",
   "execution_count": 2,
   "metadata": {},
   "outputs": [],
   "source": [
    "from sklearn.neighbors import KNeighborsClassifier\n",
    "from sklearn.naive_bayes import GaussianNB\n",
    "from sklearn.linear_model import LogisticRegression\n",
    "from sklearn.neural_network import MLPClassifier\n",
    "from sklearn.model_selection import cross_val_score\n",
    "from sklearn import metrics\n",
    "from pandas import DataFrame"
   ]
  },
  {
   "cell_type": "markdown",
   "metadata": {},
   "source": [
    "# Initial Evaluation of Classifiers"
   ]
  },
  {
   "cell_type": "code",
   "execution_count": 3,
   "metadata": {},
   "outputs": [],
   "source": [
    "# read in neccessary data\n",
    "train_labels = pd.read_csv(\"train_labels.csv\")\n",
    "train_features = pd.read_csv(\"train_features.csv\")\n",
    "valid_labels = pd.read_csv(\"valid_labels.csv\")\n",
    "valid_features = pd.read_csv(\"valid_features.csv\")\n",
    "test_features = pd.read_csv(\"test_features.csv\")\n",
    "trackID =  test_features['trackID'].tolist()"
   ]
  },
  {
   "cell_type": "code",
   "execution_count": 4,
   "metadata": {},
   "outputs": [],
   "source": [
    "#function that splits the data into the subsets audio, metadata, both combined,  labels in both string and discretised form as \n",
    "# well as the track ID's\n",
    "def preprocess(features, labels):\n",
    "    \n",
    "    text = features['tags'].tolist()\n",
    "    \n",
    "    md = features.iloc[:,2:9] # when combining both data change 9 to 157\n",
    "    md_new = md.drop(['tags'],axis=1)\n",
    "    metadata = md_new.values.tolist()\n",
    "    \n",
    "    audio = features.iloc[:,9:157]\n",
    "    audio = audio.values.tolist()\n",
    "    just_labels = labels.drop(['trackID'], axis=1)\n",
    "    numeric_labels = just_labels\n",
    "    just_labels = just_labels.values.tolist()\n",
    "    just_labels = [val for sublist in just_labels for val in sublist]\n",
    "    \n",
    "    for d in list(numeric_labels):\n",
    "        vals = sorted(set([v for v in numeric_labels[d].values]))\n",
    "        vals_dict = dict(zip(vals, range(len(vals))))\n",
    "        numeric_labels[d] =  numeric_labels[d].map(lambda s: vals_dict.get(s) if s in vals_dict else s)\n",
    "    numeric_labels = numeric_labels.values.tolist()\n",
    "    numeric_labels = [val for sublist in numeric_labels for val in sublist]\n",
    "    \n",
    "    trackID =  features.iloc[:,0]\n",
    "    trackID = trackID.values.tolist()\n",
    "    \n",
    "    return  metadata, audio, just_labels,  numeric_labels, trackID\n",
    "\n",
    "\n"
   ]
  },
  {
   "cell_type": "code",
   "execution_count": 5,
   "metadata": {},
   "outputs": [],
   "source": [
    "train_data = preprocess(train_features, train_labels)\n",
    "valid_data = preprocess(valid_features, valid_labels)\n",
    "test_data =  preprocess(test_features, valid_labels)\n",
    "\n"
   ]
  },
  {
   "cell_type": "code",
   "execution_count": 555,
   "metadata": {},
   "outputs": [],
   "source": [
    "# code to cycle through number of nearest neighbour finding the highest accuracy\n",
    "i=0\n",
    "k = [0] * len(range(1, 21))\n",
    "acc = [0] * len(range(1, 21))\n",
    "for x in range(1, 21): \n",
    "    classifier = KNeighborsClassifier(n_neighbors=x)\n",
    "    classifier.fit(train_data[0], train_data[2])\n",
    "    preds = classifier.predict(valid_data[0])\n",
    "    Acc = metrics.accuracy_score(valid_data[2],preds)\n",
    "    k[i]=x\n",
    "    acc[i] = Acc\n",
    "    i=i+1\n",
    "Acc_Knn = acc[np.argmax(acc)]"
   ]
  },
  {
   "cell_type": "code",
   "execution_count": 556,
   "metadata": {
    "scrolled": true
   },
   "outputs": [
    {
     "data": {
      "image/png": "[encoded data removed]",
      "text/plain": [
       "<Figure size 432x288 with 1 Axes>"
      ]
     },
     "metadata": {
      "needs_background": "light"
     },
     "output_type": "display_data"
    }
   ],
   "source": [
    "#plot\n",
    "plt.plot(k, acc, color='red', marker='o')\n",
    "plt.title('Knn For metadata', fontsize=14)\n",
    "plt.xlabel('K', fontsize=14)\n",
    "plt.ylabel('Accuracy', fontsize=14)\n",
    "plt.grid(True)\n",
    "plt.show()"
   ]
  },
  {
   "cell_type": "code",
   "execution_count": 126,
   "metadata": {},
   "outputs": [
    {
     "data": {
      "text/plain": [
       "0.5066666666666667"
      ]
     },
     "execution_count": 126,
     "metadata": {},
     "output_type": "execute_result"
    }
   ],
   "source": [
    "# Find Accuracy of GNB\n",
    "GausNB = GaussianNB()\n",
    "GausNB.fit(train_data[0],train_data[2])\n",
    "pred = GausNB.predict(valid_data[0])\n",
    "Acc_GNB = metrics.accuracy_score(valid_data[2], pred)\n",
    "Acc_GNB"
   ]
  },
  {
   "cell_type": "code",
   "execution_count": 74,
   "metadata": {},
   "outputs": [
    {
     "data": {
      "text/plain": [
       "0.12222222222222222"
      ]
     },
     "execution_count": 74,
     "metadata": {},
     "output_type": "execute_result"
    }
   ],
   "source": [
    "# 0-R\n",
    "pred = [np.bincount(train_data[5]).argmax()] * len(valid_data[3])\n",
    "Acc_0R= metrics.accuracy_score(valid_data[4], pred)\n",
    "Acc_0R"
   ]
  },
  {
   "cell_type": "code",
   "execution_count": 75,
   "metadata": {},
   "outputs": [
    {
     "name": "stderr",
     "output_type": "stream",
     "text": [
      "C:\\Users\\61431\\anaconda3\\lib\\site-packages\\sklearn\\linear_model\\_logistic.py:762: ConvergenceWarning: lbfgs failed to converge (status=1):\n",
      "STOP: TOTAL NO. of ITERATIONS REACHED LIMIT.\n",
      "\n",
      "Increase the number of iterations (max_iter) or scale the data as shown in:\n",
      "    https://scikit-learn.org/stable/modules/preprocessing.html\n",
      "Please also refer to the documentation for alternative solver options:\n",
      "    https://scikit-learn.org/stable/modules/linear_model.html#logistic-regression\n",
      "  n_iter_i = _check_optimize_result(\n"
     ]
    }
   ],
   "source": [
    "#logistic Regression\n",
    "lgr = LogisticRegression(max_iter=10000)\n",
    "lgr.fit(train_data[0],train_data[2])\n",
    "pred = lgr.predict(valid_data[0])\n",
    "Acc_lgr = metrics.accuracy_score(valid_data[2], pred)"
   ]
  },
  {
   "cell_type": "code",
   "execution_count": 76,
   "metadata": {},
   "outputs": [],
   "source": [
    "# code to cycle through number of hidden layers finding the highest accuracy for MLP\n",
    "i=0\n",
    "iters = [0] * 10\n",
    "acc = [0] * 10\n",
    "acc_cv = [0] * 10\n",
    "start = time.time()\n",
    "for x in range(10, 110, 10): \n",
    "    clf = MLPClassifier(max_iter= 1000, random_state= 1, hidden_layer_sizes = [x])\n",
    "    clf.fit(train_data[0], train_data[2])\n",
    "    pred = clf.predict(valid_data[0])\n",
    "    Acc = metrics.accuracy_score(valid_data[2], pred)\n",
    "    iters[i]=x\n",
    "    acc[i] = Acc\n",
    "    \n",
    "    i=i+1\n",
    "end = time.time()\n",
    "t = end - start\n",
    "Acc_mlp = acc[np.argmax(acc)]    "
   ]
  },
  {
   "cell_type": "code",
   "execution_count": 82,
   "metadata": {},
   "outputs": [
    {
     "data": {
      "image/png": "[encoded data removed]",
      "text/plain": [
       "<Figure size 432x288 with 1 Axes>"
      ]
     },
     "metadata": {
      "needs_background": "light"
     },
     "output_type": "display_data"
    }
   ],
   "source": [
    "# plot\n",
    "plt.plot(iters, acc, color='red', marker='o')\n",
    "plt.title('MLP For both', fontsize=14)\n",
    "plt.xlabel('Hidden layers', fontsize=14)\n",
    "plt.ylabel('Accuracy', fontsize=14)\n",
    "plt.grid(True)\n",
    "plt.show()"
   ]
  },
  {
   "cell_type": "code",
   "execution_count": 79,
   "metadata": {},
   "outputs": [],
   "source": [
    "# Store accuracies from different classifiers\n",
    "Y= [Acc_Knn, Acc_GNB, Acc_0R, Acc_lgr, Acc_mlp]\n",
    "X= [\"Knn\", \"GNB\", \"0-R\", \"LGR\", \"MLP\"]\n"
   ]
  },
  {
   "cell_type": "code",
   "execution_count": 83,
   "metadata": {},
   "outputs": [
    {
     "data": {
      "image/png": "[encoded data removed]",
      "text/plain": [
       "<Figure size 432x288 with 1 Axes>"
      ]
     },
     "metadata": {
      "needs_background": "light"
     },
     "output_type": "display_data"
    }
   ],
   "source": [
    "# Plot The classifier accuracies against eachother\n",
    "plt.bar(X ,Y)\n",
    "plt.title('Accuracy per Classifier, both')\n",
    "plt.xlabel('Classifier')\n",
    "plt.ylabel('Accuracy')\n",
    "plt.grid(True)\n",
    "plt.show()"
   ]
  },
  {
   "cell_type": "code",
   "execution_count": 591,
   "metadata": {},
   "outputs": [],
   "source": [
    "# Find error and error reduction rate\n",
    "Er = [1] * 5\n",
    "Err = [0] * 5\n",
    "for i in range (0, len(Er)):\n",
    "    Er[i] = Er[i] - Y[i]\n",
    "    Err[i] = (Er[0]-Er[i])/Er[0]"
   ]
  },
  {
   "cell_type": "code",
   "execution_count": 9,
   "metadata": {},
   "outputs": [],
   "source": [
    "# Pass in training data and classifier that you want to use\n",
    "def train(X, Y, clf):\n",
    "    fit = clf.fit(X, Y)\n",
    "    return fit"
   ]
  },
  {
   "cell_type": "code",
   "execution_count": 10,
   "metadata": {},
   "outputs": [],
   "source": [
    "# Pass in training data, the data you want to make predictions on and classifier that you want to use\n",
    "def predict(X_train,Y_train, X_test, clf):\n",
    "    clf = train(X_train, Y_train, clf)\n",
    "    pred = clf.predict(X_test)\n",
    "    return pred"
   ]
  },
  {
   "cell_type": "code",
   "execution_count": 1,
   "metadata": {},
   "outputs": [
    {
     "ename": "NameError",
     "evalue": "name 'predict' is not defined",
     "output_type": "error",
     "traceback": [
      "\u001b[1;31m---------------------------------------------------------------------------\u001b[0m",
      "\u001b[1;31mNameError\u001b[0m                                 Traceback (most recent call last)",
      "\u001b[1;32m<ipython-input-1-0fe032eb4d7b>\u001b[0m in \u001b[0;36m<module>\u001b[1;34m\u001b[0m\n\u001b[0;32m      1\u001b[0m \u001b[1;31m# makes predictions and writes them into data frame along with the corresponding\u001b[0m\u001b[1;33m\u001b[0m\u001b[1;33m\u001b[0m\u001b[1;33m\u001b[0m\u001b[0m\n\u001b[0;32m      2\u001b[0m \u001b[1;31m# track ID which can then be exported to csv file\u001b[0m\u001b[1;33m\u001b[0m\u001b[1;33m\u001b[0m\u001b[1;33m\u001b[0m\u001b[0m\n\u001b[1;32m----> 3\u001b[1;33m \u001b[0mpred\u001b[0m \u001b[1;33m=\u001b[0m \u001b[0mpredict\u001b[0m\u001b[1;33m(\u001b[0m\u001b[0mtrain_data\u001b[0m\u001b[1;33m[\u001b[0m\u001b[1;36m0\u001b[0m\u001b[1;33m]\u001b[0m\u001b[1;33m,\u001b[0m \u001b[0mtrain_data\u001b[0m\u001b[1;33m[\u001b[0m\u001b[1;36m2\u001b[0m\u001b[1;33m]\u001b[0m\u001b[1;33m,\u001b[0m \u001b[0mtest_data\u001b[0m\u001b[1;33m[\u001b[0m\u001b[1;36m0\u001b[0m\u001b[1;33m]\u001b[0m\u001b[1;33m,\u001b[0m \u001b[0mGaussianNB\u001b[0m\u001b[1;33m(\u001b[0m\u001b[1;33m)\u001b[0m\u001b[1;33m)\u001b[0m\u001b[1;33m\u001b[0m\u001b[1;33m\u001b[0m\u001b[0m\n\u001b[0m\u001b[0;32m      4\u001b[0m \u001b[0mpred\u001b[0m \u001b[1;33m=\u001b[0m \u001b[0mpred\u001b[0m\u001b[1;33m.\u001b[0m\u001b[0mtolist\u001b[0m\u001b[1;33m(\u001b[0m\u001b[1;33m)\u001b[0m\u001b[1;33m\u001b[0m\u001b[1;33m\u001b[0m\u001b[0m\n\u001b[0;32m      5\u001b[0m \u001b[0mdata\u001b[0m \u001b[1;33m=\u001b[0m \u001b[1;33m{\u001b[0m\u001b[1;34m\"trackID\"\u001b[0m\u001b[1;33m:\u001b[0m\u001b[0mtest_data\u001b[0m\u001b[1;33m[\u001b[0m\u001b[1;36m4\u001b[0m\u001b[1;33m]\u001b[0m\u001b[1;33m,\u001b[0m\u001b[1;34m\"genre\"\u001b[0m\u001b[1;33m:\u001b[0m\u001b[0mpred\u001b[0m\u001b[1;33m}\u001b[0m\u001b[1;33m\u001b[0m\u001b[1;33m\u001b[0m\u001b[0m\n",
      "\u001b[1;31mNameError\u001b[0m: name 'predict' is not defined"
     ]
    }
   ],
   "source": [
    "# makes predictions and writes them into data frame along with the corresponding\n",
    "# track ID which can then be exported to csv file\n",
    "#produces best result when GNB is trained with both meta and Audio data. \n",
    "pred = predict(train_data[0], train_data[2], test_data[0], GaussianNB())\n",
    "pred = pred.tolist()\n",
    "data = {\"trackID\":test_data[4],\"genre\":pred}\n",
    "df = pd.DataFrame(data)\n"
   ]
  },
  {
   "cell_type": "markdown",
   "metadata": {},
   "source": [
    "# Feature Evaluation"
   ]
  },
  {
   "cell_type": "code",
   "execution_count": 312,
   "metadata": {},
   "outputs": [],
   "source": [
    "# takes the meta data and returns a list with meta dats with one feature removed\n",
    "def drop_one(features):\n",
    "    \n",
    "    \n",
    "    md = features.iloc[:,3:9] # when combining both data change 9 to 157\n",
    "    loud = md.drop(['loudness'],axis=1)\n",
    "    loud = loud.values.tolist()\n",
    "    temp = md.drop(['tempo'],axis=1) \n",
    "    temp = temp.values.tolist()\n",
    "    timesig = md.drop(['time_signature'],axis=1)\n",
    "    timesig = timesig.values.tolist()\n",
    "    key = md.drop(['key'],axis=1)\n",
    "    key = key.values.tolist()\n",
    "    mode = md.drop(['mode'],axis=1)\n",
    "    mode = mode.values.tolist()\n",
    "    duration = md.drop(['duration'],axis=1)\n",
    "    duration = duration.values.tolist()\n",
    "    md = md.values.tolist()\n",
    "    return  md, loud, temp, timesig, key, mode, duration"
   ]
  },
  {
   "cell_type": "code",
   "execution_count": 315,
   "metadata": {},
   "outputs": [],
   "source": [
    "D1_train =drop_one(train_features)\n",
    "D1_test = drop_one(valid_features)"
   ]
  },
  {
   "cell_type": "code",
   "execution_count": 594,
   "metadata": {},
   "outputs": [],
   "source": [
    "# Find Accuracy of each modified dataset\n",
    "Acc_D1 = [0]*len(D1_train)\n",
    "for x in range(0, len(D1_train)):\n",
    "    pred = predict(D1_train[x], train_data[3], D1_test[x], GaussianNB())\n",
    "    pred = pred.tolist()\n",
    "    Acc_D1[x] = metrics.accuracy_score(valid_data[3], pred)\n"
   ]
  },
  {
   "cell_type": "code",
   "execution_count": 23,
   "metadata": {},
   "outputs": [],
   "source": [
    "# Adds a feature from meta data and adds in to either 1 vector from audio or the entire audio set\n",
    "def keep_one(features):\n",
    "    \n",
    "    \n",
    "    md = features.iloc[:,3:9] \n",
    "    audio =  features.iloc[:,9:10] # when only using 1 vector change 157 to 10\n",
    "    \n",
    "    loud = features['loudness'].tolist()\n",
    "    df=audio\n",
    "    df['meta']=loud\n",
    "    loud = df.values.tolist()\n",
    "    \n",
    "    temp = features['tempo'].tolist()\n",
    "    df=audio\n",
    "    df['meta']=temp\n",
    "    temp = df.values.tolist()\n",
    "    \n",
    "    timesig = features['time_signature'].tolist()\n",
    "    df=audio\n",
    "    df['meta']=timesig\n",
    "    timesig = df.values.tolist()\n",
    "    \n",
    "    key = features['key'].tolist()\n",
    "    df=audio\n",
    "    df['meta']=key\n",
    "    key = df.values.tolist()\n",
    "    \n",
    "    mode = features['mode'].tolist()\n",
    "    df=audio\n",
    "    df['meta']=mode\n",
    "    mode = df.values.tolist()\n",
    "    \n",
    "    duration = features['duration'].tolist()\n",
    "    df=audio\n",
    "    df['meta']=duration \n",
    "    duration = df.values.tolist()\n",
    "    \n",
    "    \n",
    "    return audio, loud, temp, timesig, key, mode, duration\n"
   ]
  },
  {
   "cell_type": "code",
   "execution_count": 24,
   "metadata": {},
   "outputs": [],
   "source": [
    "K1_train =keep_one(train_features)\n",
    "K1_test = keep_one(valid_features)\n"
   ]
  },
  {
   "cell_type": "code",
   "execution_count": 25,
   "metadata": {},
   "outputs": [
    {
     "data": {
      "text/plain": [
       "7"
      ]
     },
     "execution_count": 25,
     "metadata": {},
     "output_type": "execute_result"
    }
   ],
   "source": [
    "len(K1_train)"
   ]
  },
  {
   "cell_type": "code",
   "execution_count": 26,
   "metadata": {},
   "outputs": [],
   "source": [
    "# Find Accuracy of each modified dataset\n",
    "Acc_K1 = [0]*len(K1_train)\n",
    "for x in range(0, len(K1_train)):\n",
    "    pred = predict(K1_train[x], train_data[3], K1_test[x], MLPClassifier(max_iter= 1000, random_state= 1, hidden_layer_sizes = 40))\n",
    "    pred = pred.tolist()\n",
    "    Acc_K1[x] = metrics.accuracy_score(valid_data[3], pred)\n"
   ]
  },
  {
   "cell_type": "code",
   "execution_count": 27,
   "metadata": {},
   "outputs": [],
   "source": [
    "X=['none', 'loudness', 'tempo', 'timesig', 'key', 'mode', 'duration']"
   ]
  },
  {
   "cell_type": "code",
   "execution_count": 28,
   "metadata": {},
   "outputs": [
    {
     "data": {
      "image/png": "[encoded data removed]",
      "text/plain": [
       "<Figure size 432x288 with 1 Axes>"
      ]
     },
     "metadata": {
      "needs_background": "light"
     },
     "output_type": "display_data"
    }
   ],
   "source": [
    "plt.bar(X , Acc_K1)\n",
    "plt.title('Accuracy per feature added , MLP')\n",
    "plt.xlabel('Added')\n",
    "plt.ylabel('Accuracy')\n",
    "plt.grid(True)\n",
    "plt.show()"
   ]
  },
  {
   "cell_type": "code",
   "execution_count": null,
   "metadata": {},
   "outputs": [],
   "source": []
  }
 ],
 "metadata": {
  "kernelspec": {
   "display_name": "Python 3",
   "language": "python",
   "name": "python3"
  },
  "language_info": {
   "codemirror_mode": {
    "name": "ipython",
    "version": 3
   },
   "file_extension": ".py",
   "mimetype": "text/x-python",
   "name": "python",
   "nbconvert_exporter": "python",
   "pygments_lexer": "ipython3",
   "version": "3.8.3"
  }
 },
 "nbformat": 4,
 "nbformat_minor": 4
}
